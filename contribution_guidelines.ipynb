{
 "cells": [
  {
   "cell_type": "markdown",
   "metadata": {},
   "source": [
    "### Script for analyzing and plotting contribution guidelines\n",
    "In this script, we summarize the ways that organizations hosting data standard content on GitHub ask their users for feedback."
   ]
  },
  {
   "cell_type": "markdown",
   "metadata": {},
   "source": [
    "First, import libraries we need for this analysis and plotting."
   ]
  },
  {
   "cell_type": "code",
   "execution_count": 9,
   "metadata": {},
   "outputs": [],
   "source": [
    "import matplotlib.pylab as plt\n",
    "import pandas as pd\n",
    "import numpy as np\n",
    "import seaborn as sns"
   ]
  },
  {
   "cell_type": "markdown",
   "metadata": {},
   "source": [
    "Read in data for analysis"
   ]
  },
  {
   "cell_type": "code",
   "execution_count": 10,
   "metadata": {},
   "outputs": [],
   "source": [
    "contribution_pages = pd.read_csv('data/contribution_guidelines.csv', header=0)"
   ]
  },
  {
   "cell_type": "markdown",
   "metadata": {},
   "source": [
    "Inspect data"
   ]
  },
  {
   "cell_type": "code",
   "execution_count": 11,
   "metadata": {},
   "outputs": [
    {
     "data": {
      "text/html": [
       "<div>\n",
       "<style scoped>\n",
       "    .dataframe tbody tr th:only-of-type {\n",
       "        vertical-align: middle;\n",
       "    }\n",
       "\n",
       "    .dataframe tbody tr th {\n",
       "        vertical-align: top;\n",
       "    }\n",
       "\n",
       "    .dataframe thead th {\n",
       "        text-align: right;\n",
       "    }\n",
       "</style>\n",
       "<table border=\"1\" class=\"dataframe\">\n",
       "  <thead>\n",
       "    <tr style=\"text-align: right;\">\n",
       "      <th></th>\n",
       "      <th>organization_or_project_name</th>\n",
       "      <th>mention_contributing</th>\n",
       "      <th>outline_for_contributing_workflow</th>\n",
       "      <th>instructions_for_branching</th>\n",
       "      <th>github_tutorial</th>\n",
       "      <th>issue_template</th>\n",
       "      <th>code_of_conduct</th>\n",
       "      <th>notes</th>\n",
       "    </tr>\n",
       "  </thead>\n",
       "  <tbody>\n",
       "    <tr>\n",
       "      <th>0</th>\n",
       "      <td>Darwin Core</td>\n",
       "      <td>1.0</td>\n",
       "      <td>NaN</td>\n",
       "      <td>NaN</td>\n",
       "      <td>NaN</td>\n",
       "      <td>1.0</td>\n",
       "      <td>NaN</td>\n",
       "      <td>NaN</td>\n",
       "    </tr>\n",
       "    <tr>\n",
       "      <th>1</th>\n",
       "      <td>EML</td>\n",
       "      <td>1.0</td>\n",
       "      <td>1.0</td>\n",
       "      <td>1.0</td>\n",
       "      <td>NaN</td>\n",
       "      <td>NaN</td>\n",
       "      <td>NaN</td>\n",
       "      <td>NaN</td>\n",
       "    </tr>\n",
       "    <tr>\n",
       "      <th>2</th>\n",
       "      <td>Ecological Trait Data Standard</td>\n",
       "      <td>1.0</td>\n",
       "      <td>NaN</td>\n",
       "      <td>NaN</td>\n",
       "      <td>NaN</td>\n",
       "      <td>1.0</td>\n",
       "      <td>NaN</td>\n",
       "      <td>NaN</td>\n",
       "    </tr>\n",
       "    <tr>\n",
       "      <th>3</th>\n",
       "      <td>MIxS</td>\n",
       "      <td>1.0</td>\n",
       "      <td>NaN</td>\n",
       "      <td>NaN</td>\n",
       "      <td>NaN</td>\n",
       "      <td>1.0</td>\n",
       "      <td>NaN</td>\n",
       "      <td>NaN</td>\n",
       "    </tr>\n",
       "    <tr>\n",
       "      <th>4</th>\n",
       "      <td>IGSN</td>\n",
       "      <td>1.0</td>\n",
       "      <td>NaN</td>\n",
       "      <td>NaN</td>\n",
       "      <td>NaN</td>\n",
       "      <td>NaN</td>\n",
       "      <td>NaN</td>\n",
       "      <td>NaN</td>\n",
       "    </tr>\n",
       "  </tbody>\n",
       "</table>\n",
       "</div>"
      ],
      "text/plain": [
       "     organization_or_project_name  mention_contributing  \\\n",
       "0                     Darwin Core                   1.0   \n",
       "1                             EML                   1.0   \n",
       "2  Ecological Trait Data Standard                   1.0   \n",
       "3                            MIxS                   1.0   \n",
       "4                            IGSN                   1.0   \n",
       "\n",
       "   outline_for_contributing_workflow  instructions_for_branching  \\\n",
       "0                                NaN                         NaN   \n",
       "1                                1.0                         1.0   \n",
       "2                                NaN                         NaN   \n",
       "3                                NaN                         NaN   \n",
       "4                                NaN                         NaN   \n",
       "\n",
       "   github_tutorial  issue_template  code_of_conduct notes  \n",
       "0              NaN             1.0              NaN   NaN  \n",
       "1              NaN             NaN              NaN   NaN  \n",
       "2              NaN             1.0              NaN   NaN  \n",
       "3              NaN             1.0              NaN   NaN  \n",
       "4              NaN             NaN              NaN   NaN  "
      ]
     },
     "execution_count": 11,
     "metadata": {},
     "output_type": "execute_result"
    }
   ],
   "source": [
    "contribution_pages.head()"
   ]
  },
  {
   "cell_type": "markdown",
   "metadata": {},
   "source": [
    "Delete the notes column since this is not part of our analysis."
   ]
  },
  {
   "cell_type": "code",
   "execution_count": 12,
   "metadata": {},
   "outputs": [],
   "source": [
    "del contribution_pages['notes']"
   ]
  },
  {
   "cell_type": "markdown",
   "metadata": {},
   "source": [
    "Ensure that notes column was deleted."
   ]
  },
  {
   "cell_type": "code",
   "execution_count": 13,
   "metadata": {},
   "outputs": [
    {
     "data": {
      "text/html": [
       "<div>\n",
       "<style scoped>\n",
       "    .dataframe tbody tr th:only-of-type {\n",
       "        vertical-align: middle;\n",
       "    }\n",
       "\n",
       "    .dataframe tbody tr th {\n",
       "        vertical-align: top;\n",
       "    }\n",
       "\n",
       "    .dataframe thead th {\n",
       "        text-align: right;\n",
       "    }\n",
       "</style>\n",
       "<table border=\"1\" class=\"dataframe\">\n",
       "  <thead>\n",
       "    <tr style=\"text-align: right;\">\n",
       "      <th></th>\n",
       "      <th>organization_or_project_name</th>\n",
       "      <th>mention_contributing</th>\n",
       "      <th>outline_for_contributing_workflow</th>\n",
       "      <th>instructions_for_branching</th>\n",
       "      <th>github_tutorial</th>\n",
       "      <th>issue_template</th>\n",
       "      <th>code_of_conduct</th>\n",
       "    </tr>\n",
       "  </thead>\n",
       "  <tbody>\n",
       "    <tr>\n",
       "      <th>0</th>\n",
       "      <td>Darwin Core</td>\n",
       "      <td>1.0</td>\n",
       "      <td>NaN</td>\n",
       "      <td>NaN</td>\n",
       "      <td>NaN</td>\n",
       "      <td>1.0</td>\n",
       "      <td>NaN</td>\n",
       "    </tr>\n",
       "    <tr>\n",
       "      <th>1</th>\n",
       "      <td>EML</td>\n",
       "      <td>1.0</td>\n",
       "      <td>1.0</td>\n",
       "      <td>1.0</td>\n",
       "      <td>NaN</td>\n",
       "      <td>NaN</td>\n",
       "      <td>NaN</td>\n",
       "    </tr>\n",
       "    <tr>\n",
       "      <th>2</th>\n",
       "      <td>Ecological Trait Data Standard</td>\n",
       "      <td>1.0</td>\n",
       "      <td>NaN</td>\n",
       "      <td>NaN</td>\n",
       "      <td>NaN</td>\n",
       "      <td>1.0</td>\n",
       "      <td>NaN</td>\n",
       "    </tr>\n",
       "    <tr>\n",
       "      <th>3</th>\n",
       "      <td>MIxS</td>\n",
       "      <td>1.0</td>\n",
       "      <td>NaN</td>\n",
       "      <td>NaN</td>\n",
       "      <td>NaN</td>\n",
       "      <td>1.0</td>\n",
       "      <td>NaN</td>\n",
       "    </tr>\n",
       "    <tr>\n",
       "      <th>4</th>\n",
       "      <td>IGSN</td>\n",
       "      <td>1.0</td>\n",
       "      <td>NaN</td>\n",
       "      <td>NaN</td>\n",
       "      <td>NaN</td>\n",
       "      <td>NaN</td>\n",
       "      <td>NaN</td>\n",
       "    </tr>\n",
       "  </tbody>\n",
       "</table>\n",
       "</div>"
      ],
      "text/plain": [
       "     organization_or_project_name  mention_contributing  \\\n",
       "0                     Darwin Core                   1.0   \n",
       "1                             EML                   1.0   \n",
       "2  Ecological Trait Data Standard                   1.0   \n",
       "3                            MIxS                   1.0   \n",
       "4                            IGSN                   1.0   \n",
       "\n",
       "   outline_for_contributing_workflow  instructions_for_branching  \\\n",
       "0                                NaN                         NaN   \n",
       "1                                1.0                         1.0   \n",
       "2                                NaN                         NaN   \n",
       "3                                NaN                         NaN   \n",
       "4                                NaN                         NaN   \n",
       "\n",
       "   github_tutorial  issue_template  code_of_conduct  \n",
       "0              NaN             1.0              NaN  \n",
       "1              NaN             NaN              NaN  \n",
       "2              NaN             1.0              NaN  \n",
       "3              NaN             1.0              NaN  \n",
       "4              NaN             NaN              NaN  "
      ]
     },
     "execution_count": 13,
     "metadata": {},
     "output_type": "execute_result"
    }
   ],
   "source": [
    "contribution_pages.head()"
   ]
  },
  {
   "cell_type": "markdown",
   "metadata": {},
   "source": [
    "Calculate sum for each of the different contribution elements"
   ]
  },
  {
   "cell_type": "code",
   "execution_count": 14,
   "metadata": {},
   "outputs": [
    {
     "name": "stdout",
     "output_type": "stream",
     "text": [
      "organization_or_project_name         Darwin CoreEMLEcological Trait Data StandardMI...\n",
      "mention_contributing                                                              18.0\n",
      "outline_for_contributing_workflow                                                 10.0\n",
      "instructions_for_branching                                                         8.0\n",
      "github_tutorial                                                                    3.0\n",
      "issue_template                                                                     8.0\n",
      "code_of_conduct                                                                    3.0\n",
      "dtype: object\n"
     ]
    }
   ],
   "source": [
    "contribution_pages_totals = contribution_pages.sum()\n",
    "print(contribution_pages_totals)"
   ]
  },
  {
   "cell_type": "markdown",
   "metadata": {},
   "source": [
    "Drop the header since we rename in next step."
   ]
  },
  {
   "cell_type": "code",
   "execution_count": 15,
   "metadata": {},
   "outputs": [
    {
     "data": {
      "text/plain": [
       "mention_contributing                 18.0\n",
       "outline_for_contributing_workflow    10.0\n",
       "instructions_for_branching            8.0\n",
       "github_tutorial                       3.0\n",
       "issue_template                        8.0\n",
       "dtype: object"
      ]
     },
     "execution_count": 15,
     "metadata": {},
     "output_type": "execute_result"
    }
   ],
   "source": [
    "contribution_new_labels = contribution_pages_totals.drop(\"organization_or_project_name\")\n",
    "contribution_new_labels.head()"
   ]
  },
  {
   "cell_type": "markdown",
   "metadata": {},
   "source": [
    "Rename header and conver to a dataframe"
   ]
  },
  {
   "cell_type": "code",
   "execution_count": 16,
   "metadata": {},
   "outputs": [
    {
     "data": {
      "text/html": [
       "<div>\n",
       "<style scoped>\n",
       "    .dataframe tbody tr th:only-of-type {\n",
       "        vertical-align: middle;\n",
       "    }\n",
       "\n",
       "    .dataframe tbody tr th {\n",
       "        vertical-align: top;\n",
       "    }\n",
       "\n",
       "    .dataframe thead th {\n",
       "        text-align: right;\n",
       "    }\n",
       "</style>\n",
       "<table border=\"1\" class=\"dataframe\">\n",
       "  <thead>\n",
       "    <tr style=\"text-align: right;\">\n",
       "      <th></th>\n",
       "      <th>Contributing_elements</th>\n",
       "      <th>count</th>\n",
       "    </tr>\n",
       "  </thead>\n",
       "  <tbody>\n",
       "    <tr>\n",
       "      <th>0</th>\n",
       "      <td>mention_contributing</td>\n",
       "      <td>18.0</td>\n",
       "    </tr>\n",
       "    <tr>\n",
       "      <th>1</th>\n",
       "      <td>outline_for_contributing_workflow</td>\n",
       "      <td>10.0</td>\n",
       "    </tr>\n",
       "    <tr>\n",
       "      <th>2</th>\n",
       "      <td>instructions_for_branching</td>\n",
       "      <td>8.0</td>\n",
       "    </tr>\n",
       "    <tr>\n",
       "      <th>3</th>\n",
       "      <td>github_tutorial</td>\n",
       "      <td>3.0</td>\n",
       "    </tr>\n",
       "    <tr>\n",
       "      <th>4</th>\n",
       "      <td>issue_template</td>\n",
       "      <td>8.0</td>\n",
       "    </tr>\n",
       "    <tr>\n",
       "      <th>5</th>\n",
       "      <td>code_of_conduct</td>\n",
       "      <td>3.0</td>\n",
       "    </tr>\n",
       "  </tbody>\n",
       "</table>\n",
       "</div>"
      ],
      "text/plain": [
       "               Contributing_elements count\n",
       "0               mention_contributing  18.0\n",
       "1  outline_for_contributing_workflow  10.0\n",
       "2         instructions_for_branching   8.0\n",
       "3                    github_tutorial   3.0\n",
       "4                     issue_template   8.0\n",
       "5                    code_of_conduct   3.0"
      ]
     },
     "execution_count": 16,
     "metadata": {},
     "output_type": "execute_result"
    }
   ],
   "source": [
    "contributing_pages_df = pd.DataFrame({'Contributing_elements':contribution_new_labels.index, 'count':contribution_new_labels.values})\n",
    "contributing_pages_df"
   ]
  },
  {
   "cell_type": "markdown",
   "metadata": {},
   "source": [
    "Create a new column showing percentages of each contributing element"
   ]
  },
  {
   "cell_type": "code",
   "execution_count": 17,
   "metadata": {
    "scrolled": true
   },
   "outputs": [
    {
     "name": "stdout",
     "output_type": "stream",
     "text": [
      "               Contributing_elements count percent\n",
      "0               mention_contributing  18.0   56.25\n",
      "1  outline_for_contributing_workflow  10.0   31.25\n",
      "2         instructions_for_branching   8.0    25.0\n",
      "3                    github_tutorial   3.0   9.375\n",
      "4                     issue_template   8.0    25.0\n",
      "5                    code_of_conduct   3.0   9.375\n"
     ]
    }
   ],
   "source": [
    "contributing_pages_df['percent'] = (contributing_pages_df['count'] / len(contribution_pages.index)) * 100\n",
    "print(contributing_pages_df)"
   ]
  },
  {
   "cell_type": "markdown",
   "metadata": {},
   "source": [
    "Prepare for plotting by soring the percents from max to min"
   ]
  },
  {
   "cell_type": "code",
   "execution_count": 18,
   "metadata": {},
   "outputs": [
    {
     "name": "stdout",
     "output_type": "stream",
     "text": [
      "               Contributing_elements count percent\n",
      "0               mention_contributing  18.0   56.25\n",
      "1  outline_for_contributing_workflow  10.0   31.25\n",
      "2         instructions_for_branching   8.0    25.0\n",
      "4                     issue_template   8.0    25.0\n",
      "3                    github_tutorial   3.0   9.375\n",
      "5                    code_of_conduct   3.0   9.375\n"
     ]
    }
   ],
   "source": [
    "result = contributing_pages_df.sort_values('percent', ascending=False)\n",
    "print(result)"
   ]
  },
  {
   "cell_type": "markdown",
   "metadata": {},
   "source": [
    "Make bar plot using `seaborn` package"
   ]
  },
  {
   "cell_type": "code",
   "execution_count": 19,
   "metadata": {},
   "outputs": [
    {
     "data": {
      "image/png": "[encoded data removed]",
      "text/plain": [
       "<Figure size 432x288 with 1 Axes>"
      ]
     },
     "metadata": {},
     "output_type": "display_data"
    }
   ],
   "source": [
    "sns.set_style(\"white\")\n",
    "sns.set_context(\"paper\")\n",
    "contributing_barplot = sns.barplot(x=\"Contributing_elements\", \n",
    "                                y = \"percent\", \n",
    "                                data = contributing_pages_df, \n",
    "                                color=\"maroon\",\n",
    "                               order = result['Contributing_elements'])\n",
    "contributing_barplot.set(xlabel = \"Contributing elements\", \n",
    "                      ylabel = \"Percent of GitHub repos\")\n",
    "contributing_barplot.set_xticklabels(contributing_barplot.get_xticklabels(), \n",
    "                                  rotation=90)\n",
    "contributing_barplot.set_xticklabels(['mention contributing','workflow','branching','issue templates','GitHub tutorial','code of conduct'])\n",
    "sns.despine(top=True)\n",
    "plt.ylim(0,100)\n",
    "plt.tight_layout(h_pad=2)"
   ]
  },
  {
   "cell_type": "markdown",
   "metadata": {},
   "source": [
    "### Analysis of repositories that ask for issues and/or PRs"
   ]
  },
  {
   "cell_type": "markdown",
   "metadata": {},
   "source": [
    "Now, import issues vs. pull request data."
   ]
  },
  {
   "cell_type": "code",
   "execution_count": 23,
   "metadata": {},
   "outputs": [],
   "source": [
    "issue_and_pr = pd.read_csv('data/issues_vs_pr.csv', header=0)"
   ]
  },
  {
   "cell_type": "markdown",
   "metadata": {},
   "source": [
    "Calcualte the sum of different feedback options."
   ]
  },
  {
   "cell_type": "code",
   "execution_count": 24,
   "metadata": {},
   "outputs": [
    {
     "name": "stdout",
     "output_type": "stream",
     "text": [
      "organization_or_project_name     Darwin CoreEMLEcological Trait Data StandardMI...\n",
      "only_allows_issues                                                             9.0\n",
      "both_pull_requests_and_issues                                                 13.0\n",
      "unclear_how_to_contribute                                                     10.0\n",
      "dtype: object\n"
     ]
    }
   ],
   "source": [
    "issue_and_pr_totals = issue_and_pr.sum()\n",
    "print(issue_and_pr_totals)"
   ]
  },
  {
   "cell_type": "markdown",
   "metadata": {},
   "source": [
    "Drop the header of the data frame since we will change this before plotting the results."
   ]
  },
  {
   "cell_type": "code",
   "execution_count": 25,
   "metadata": {},
   "outputs": [
    {
     "data": {
      "text/plain": [
       "only_allows_issues                9.0\n",
       "both_pull_requests_and_issues    13.0\n",
       "unclear_how_to_contribute        10.0\n",
       "dtype: object"
      ]
     },
     "execution_count": 25,
     "metadata": {},
     "output_type": "execute_result"
    }
   ],
   "source": [
    "issues_new_labels = issue_and_pr_totals.drop(\"organization_or_project_name\")\n",
    "issues_new_labels.head()"
   ]
  },
  {
   "cell_type": "markdown",
   "metadata": {},
   "source": [
    "Insptect the new dataframe once you have added a new header."
   ]
  },
  {
   "cell_type": "code",
   "execution_count": 27,
   "metadata": {},
   "outputs": [
    {
     "data": {
      "text/html": [
       "<div>\n",
       "<style scoped>\n",
       "    .dataframe tbody tr th:only-of-type {\n",
       "        vertical-align: middle;\n",
       "    }\n",
       "\n",
       "    .dataframe tbody tr th {\n",
       "        vertical-align: top;\n",
       "    }\n",
       "\n",
       "    .dataframe thead th {\n",
       "        text-align: right;\n",
       "    }\n",
       "</style>\n",
       "<table border=\"1\" class=\"dataframe\">\n",
       "  <thead>\n",
       "    <tr style=\"text-align: right;\">\n",
       "      <th></th>\n",
       "      <th>ways_to_submit_issues</th>\n",
       "      <th>count</th>\n",
       "    </tr>\n",
       "  </thead>\n",
       "  <tbody>\n",
       "    <tr>\n",
       "      <th>0</th>\n",
       "      <td>only_allows_issues</td>\n",
       "      <td>9.0</td>\n",
       "    </tr>\n",
       "    <tr>\n",
       "      <th>1</th>\n",
       "      <td>both_pull_requests_and_issues</td>\n",
       "      <td>13.0</td>\n",
       "    </tr>\n",
       "    <tr>\n",
       "      <th>2</th>\n",
       "      <td>unclear_how_to_contribute</td>\n",
       "      <td>10.0</td>\n",
       "    </tr>\n",
       "  </tbody>\n",
       "</table>\n",
       "</div>"
      ],
      "text/plain": [
       "           ways_to_submit_issues count\n",
       "0             only_allows_issues   9.0\n",
       "1  both_pull_requests_and_issues  13.0\n",
       "2      unclear_how_to_contribute  10.0"
      ]
     },
     "execution_count": 27,
     "metadata": {},
     "output_type": "execute_result"
    }
   ],
   "source": [
    "issues_df = pd.DataFrame({'ways_to_submit_issues':issues_new_labels.index, 'count':issues_new_labels.values})\n",
    "issues_df"
   ]
  },
  {
   "cell_type": "markdown",
   "metadata": {},
   "source": [
    "Calculate percent of each method of providing feedback."
   ]
  },
  {
   "cell_type": "code",
   "execution_count": 29,
   "metadata": {},
   "outputs": [
    {
     "name": "stdout",
     "output_type": "stream",
     "text": [
      "           ways_to_submit_issues count percent\n",
      "0             only_allows_issues   9.0  28.125\n",
      "1  both_pull_requests_and_issues  13.0  40.625\n",
      "2      unclear_how_to_contribute  10.0   31.25\n"
     ]
    }
   ],
   "source": [
    "issues_df['percent'] = (issues_df['count'] / len(issue_and_pr.index)) * 100\n",
    "print(issues_df)"
   ]
  },
  {
   "cell_type": "markdown",
   "metadata": {},
   "source": [
    "Order results from high to low percentages."
   ]
  },
  {
   "cell_type": "code",
   "execution_count": 31,
   "metadata": {},
   "outputs": [
    {
     "name": "stdout",
     "output_type": "stream",
     "text": [
      "           ways_to_submit_issues count percent\n",
      "1  both_pull_requests_and_issues  13.0  40.625\n",
      "2      unclear_how_to_contribute  10.0   31.25\n",
      "0             only_allows_issues   9.0  28.125\n"
     ]
    }
   ],
   "source": [
    "result_issues = issues_df.sort_values('percent', ascending=False)\n",
    "print(result_issues)"
   ]
  }
 ],
 "metadata": {
  "kernelspec": {
   "display_name": "sysrevenv",
   "language": "python",
   "name": "sysrevenv"
  },
  "language_info": {
   "codemirror_mode": {
    "name": "ipython",
    "version": 3
   },
   "file_extension": ".py",
   "mimetype": "text/x-python",
   "name": "python",
   "nbconvert_exporter": "python",
   "pygments_lexer": "ipython3",
   "version": "3.9.1"
  }
 },
 "nbformat": 4,
 "nbformat_minor": 4
}
