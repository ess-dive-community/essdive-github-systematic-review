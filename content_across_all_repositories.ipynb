{
 "cells": [
  {
   "cell_type": "markdown",
   "metadata": {},
   "source": [
    "# Barplot of GitHub page content"
   ]
  },
  {
   "cell_type": "markdown",
   "metadata": {},
   "source": [
    "First, import all the necessary packages for running this notebook."
   ]
  },
  {
   "cell_type": "code",
   "execution_count": 1,
   "metadata": {},
   "outputs": [],
   "source": [
    "import matplotlib.pylab as plt\n",
    "import pandas as pd\n",
    "import numpy as np\n",
    "import seaborn as sns"
   ]
  },
  {
   "cell_type": "markdown",
   "metadata": {},
   "source": [
    "Then, read in CSV file containg information on elements across all pages of each GitHub repository"
   ]
  },
  {
   "cell_type": "code",
   "execution_count": 2,
   "metadata": {},
   "outputs": [],
   "source": [
    "all_pages = pd.read_csv('data/all_pages.csv', header=0)"
   ]
  },
  {
   "cell_type": "markdown",
   "metadata": {},
   "source": [
    "Inspect dataframe"
   ]
  },
  {
   "cell_type": "code",
   "execution_count": 3,
   "metadata": {},
   "outputs": [
    {
     "data": {
      "text/html": [
       "<div>\n",
       "<style scoped>\n",
       "    .dataframe tbody tr th:only-of-type {\n",
       "        vertical-align: middle;\n",
       "    }\n",
       "\n",
       "    .dataframe tbody tr th {\n",
       "        vertical-align: top;\n",
       "    }\n",
       "\n",
       "    .dataframe thead th {\n",
       "        text-align: right;\n",
       "    }\n",
       "</style>\n",
       "<table border=\"1\" class=\"dataframe\">\n",
       "  <thead>\n",
       "    <tr style=\"text-align: right;\">\n",
       "      <th></th>\n",
       "      <th>organization_or_project_name</th>\n",
       "      <th>getting_started</th>\n",
       "      <th>about_section</th>\n",
       "      <th>how_to_contribute</th>\n",
       "      <th>history</th>\n",
       "      <th>copyright_information</th>\n",
       "      <th>funding_and_acknowledgements</th>\n",
       "      <th>visual_structure_of_repo</th>\n",
       "      <th>recommended_citation</th>\n",
       "      <th>archived_version_and_upcoming_version</th>\n",
       "      <th>resources</th>\n",
       "      <th>description_of_terms</th>\n",
       "      <th>best_practices_guide_to_apply_standard</th>\n",
       "    </tr>\n",
       "  </thead>\n",
       "  <tbody>\n",
       "    <tr>\n",
       "      <th>0</th>\n",
       "      <td>Darwin Core</td>\n",
       "      <td>1.0</td>\n",
       "      <td>1.0</td>\n",
       "      <td>1.0</td>\n",
       "      <td>NaN</td>\n",
       "      <td>1.0</td>\n",
       "      <td>1.0</td>\n",
       "      <td>1.0</td>\n",
       "      <td>1.0</td>\n",
       "      <td>1.0</td>\n",
       "      <td>NaN</td>\n",
       "      <td>1.0</td>\n",
       "      <td>NaN</td>\n",
       "    </tr>\n",
       "    <tr>\n",
       "      <th>1</th>\n",
       "      <td>EML</td>\n",
       "      <td>1.0</td>\n",
       "      <td>1.0</td>\n",
       "      <td>1.0</td>\n",
       "      <td>1.0</td>\n",
       "      <td>1.0</td>\n",
       "      <td>1.0</td>\n",
       "      <td>NaN</td>\n",
       "      <td>1.0</td>\n",
       "      <td>1.0</td>\n",
       "      <td>NaN</td>\n",
       "      <td>1.0</td>\n",
       "      <td>NaN</td>\n",
       "    </tr>\n",
       "    <tr>\n",
       "      <th>2</th>\n",
       "      <td>Ecological Trait Data Standard</td>\n",
       "      <td>1.0</td>\n",
       "      <td>1.0</td>\n",
       "      <td>1.0</td>\n",
       "      <td>NaN</td>\n",
       "      <td>1.0</td>\n",
       "      <td>1.0</td>\n",
       "      <td>NaN</td>\n",
       "      <td>1.0</td>\n",
       "      <td>1.0</td>\n",
       "      <td>NaN</td>\n",
       "      <td>1.0</td>\n",
       "      <td>1.0</td>\n",
       "    </tr>\n",
       "    <tr>\n",
       "      <th>3</th>\n",
       "      <td>MIxS</td>\n",
       "      <td>NaN</td>\n",
       "      <td>1.0</td>\n",
       "      <td>1.0</td>\n",
       "      <td>1.0</td>\n",
       "      <td>1.0</td>\n",
       "      <td>1.0</td>\n",
       "      <td>NaN</td>\n",
       "      <td>1.0</td>\n",
       "      <td>1.0</td>\n",
       "      <td>NaN</td>\n",
       "      <td>1.0</td>\n",
       "      <td>NaN</td>\n",
       "    </tr>\n",
       "    <tr>\n",
       "      <th>4</th>\n",
       "      <td>IGSN</td>\n",
       "      <td>NaN</td>\n",
       "      <td>1.0</td>\n",
       "      <td>1.0</td>\n",
       "      <td>NaN</td>\n",
       "      <td>NaN</td>\n",
       "      <td>NaN</td>\n",
       "      <td>NaN</td>\n",
       "      <td>NaN</td>\n",
       "      <td>NaN</td>\n",
       "      <td>NaN</td>\n",
       "      <td>1.0</td>\n",
       "      <td>NaN</td>\n",
       "    </tr>\n",
       "  </tbody>\n",
       "</table>\n",
       "</div>"
      ],
      "text/plain": [
       "     organization_or_project_name  getting_started  about_section  \\\n",
       "0                     Darwin Core              1.0            1.0   \n",
       "1                             EML              1.0            1.0   \n",
       "2  Ecological Trait Data Standard              1.0            1.0   \n",
       "3                            MIxS              NaN            1.0   \n",
       "4                            IGSN              NaN            1.0   \n",
       "\n",
       "   how_to_contribute  history  copyright_information  \\\n",
       "0                1.0      NaN                    1.0   \n",
       "1                1.0      1.0                    1.0   \n",
       "2                1.0      NaN                    1.0   \n",
       "3                1.0      1.0                    1.0   \n",
       "4                1.0      NaN                    NaN   \n",
       "\n",
       "   funding_and_acknowledgements  visual_structure_of_repo  \\\n",
       "0                           1.0                       1.0   \n",
       "1                           1.0                       NaN   \n",
       "2                           1.0                       NaN   \n",
       "3                           1.0                       NaN   \n",
       "4                           NaN                       NaN   \n",
       "\n",
       "   recommended_citation  archived_version_and_upcoming_version  resources  \\\n",
       "0                   1.0                                    1.0        NaN   \n",
       "1                   1.0                                    1.0        NaN   \n",
       "2                   1.0                                    1.0        NaN   \n",
       "3                   1.0                                    1.0        NaN   \n",
       "4                   NaN                                    NaN        NaN   \n",
       "\n",
       "   description_of_terms  best_practices_guide_to_apply_standard  \n",
       "0                   1.0                                     NaN  \n",
       "1                   1.0                                     NaN  \n",
       "2                   1.0                                     1.0  \n",
       "3                   1.0                                     NaN  \n",
       "4                   1.0                                     NaN  "
      ]
     },
     "execution_count": 3,
     "metadata": {},
     "output_type": "execute_result"
    }
   ],
   "source": [
    "all_pages.head()"
   ]
  },
  {
   "cell_type": "markdown",
   "metadata": {},
   "source": [
    "Caclulate the sum of each column. This function transposes the table and tells us how many (for example) repositories in the review contained a 'getting started' section"
   ]
  },
  {
   "cell_type": "code",
   "execution_count": 4,
   "metadata": {},
   "outputs": [
    {
     "name": "stdout",
     "output_type": "stream",
     "text": [
      "organization_or_project_name              Darwin CoreEMLEcological Trait Data StandardMI...\n",
      "getting_started                                                                        11.0\n",
      "about_section                                                                          30.0\n",
      "how_to_contribute                                                                      20.0\n",
      "history                                                                                10.0\n",
      "copyright_information                                                                  18.0\n",
      "funding_and_acknowledgements                                                            7.0\n",
      "visual_structure_of_repo                                                                6.0\n",
      "recommended_citation                                                                   10.0\n",
      "archived_version_and_upcoming_version                                                  26.0\n",
      "resources                                                                               6.0\n",
      "description_of_terms                                                                   29.0\n",
      "best_practices_guide_to_apply_standard                                                  6.0\n",
      "dtype: object\n"
     ]
    }
   ],
   "source": [
    "all_pages_totals = all_pages.sum()\n",
    "print(all_pages_totals)"
   ]
  },
  {
   "cell_type": "markdown",
   "metadata": {},
   "source": [
    "Drop the header since we'll rename later, and inspect the resulting data frame."
   ]
  },
  {
   "cell_type": "code",
   "execution_count": 5,
   "metadata": {},
   "outputs": [
    {
     "data": {
      "text/plain": [
       "getting_started          11.0\n",
       "about_section            30.0\n",
       "how_to_contribute        20.0\n",
       "history                  10.0\n",
       "copyright_information    18.0\n",
       "dtype: object"
      ]
     },
     "execution_count": 5,
     "metadata": {},
     "output_type": "execute_result"
    }
   ],
   "source": [
    "ax_new_labels = all_pages_totals.drop(\"organization_or_project_name\")\n",
    "ax_new_labels.head()"
   ]
  },
  {
   "cell_type": "markdown",
   "metadata": {},
   "source": [
    "Convert from a series to a dataframe, and add in new column headers"
   ]
  },
  {
   "cell_type": "code",
   "execution_count": 6,
   "metadata": {},
   "outputs": [
    {
     "data": {
      "text/html": [
       "<div>\n",
       "<style scoped>\n",
       "    .dataframe tbody tr th:only-of-type {\n",
       "        vertical-align: middle;\n",
       "    }\n",
       "\n",
       "    .dataframe tbody tr th {\n",
       "        vertical-align: top;\n",
       "    }\n",
       "\n",
       "    .dataframe thead th {\n",
       "        text-align: right;\n",
       "    }\n",
       "</style>\n",
       "<table border=\"1\" class=\"dataframe\">\n",
       "  <thead>\n",
       "    <tr style=\"text-align: right;\">\n",
       "      <th></th>\n",
       "      <th>GitHub_elements</th>\n",
       "      <th>count</th>\n",
       "    </tr>\n",
       "  </thead>\n",
       "  <tbody>\n",
       "    <tr>\n",
       "      <th>0</th>\n",
       "      <td>getting_started</td>\n",
       "      <td>11.0</td>\n",
       "    </tr>\n",
       "    <tr>\n",
       "      <th>1</th>\n",
       "      <td>about_section</td>\n",
       "      <td>30.0</td>\n",
       "    </tr>\n",
       "    <tr>\n",
       "      <th>2</th>\n",
       "      <td>how_to_contribute</td>\n",
       "      <td>20.0</td>\n",
       "    </tr>\n",
       "    <tr>\n",
       "      <th>3</th>\n",
       "      <td>history</td>\n",
       "      <td>10.0</td>\n",
       "    </tr>\n",
       "    <tr>\n",
       "      <th>4</th>\n",
       "      <td>copyright_information</td>\n",
       "      <td>18.0</td>\n",
       "    </tr>\n",
       "    <tr>\n",
       "      <th>5</th>\n",
       "      <td>funding_and_acknowledgements</td>\n",
       "      <td>7.0</td>\n",
       "    </tr>\n",
       "    <tr>\n",
       "      <th>6</th>\n",
       "      <td>visual_structure_of_repo</td>\n",
       "      <td>6.0</td>\n",
       "    </tr>\n",
       "    <tr>\n",
       "      <th>7</th>\n",
       "      <td>recommended_citation</td>\n",
       "      <td>10.0</td>\n",
       "    </tr>\n",
       "    <tr>\n",
       "      <th>8</th>\n",
       "      <td>archived_version_and_upcoming_version</td>\n",
       "      <td>26.0</td>\n",
       "    </tr>\n",
       "    <tr>\n",
       "      <th>9</th>\n",
       "      <td>resources</td>\n",
       "      <td>6.0</td>\n",
       "    </tr>\n",
       "    <tr>\n",
       "      <th>10</th>\n",
       "      <td>description_of_terms</td>\n",
       "      <td>29.0</td>\n",
       "    </tr>\n",
       "    <tr>\n",
       "      <th>11</th>\n",
       "      <td>best_practices_guide_to_apply_standard</td>\n",
       "      <td>6.0</td>\n",
       "    </tr>\n",
       "  </tbody>\n",
       "</table>\n",
       "</div>"
      ],
      "text/plain": [
       "                           GitHub_elements count\n",
       "0                          getting_started  11.0\n",
       "1                            about_section  30.0\n",
       "2                        how_to_contribute  20.0\n",
       "3                                  history  10.0\n",
       "4                    copyright_information  18.0\n",
       "5             funding_and_acknowledgements   7.0\n",
       "6                 visual_structure_of_repo   6.0\n",
       "7                     recommended_citation  10.0\n",
       "8    archived_version_and_upcoming_version  26.0\n",
       "9                                resources   6.0\n",
       "10                    description_of_terms  29.0\n",
       "11  best_practices_guide_to_apply_standard   6.0"
      ]
     },
     "execution_count": 6,
     "metadata": {},
     "output_type": "execute_result"
    }
   ],
   "source": [
    "all_pages_df = pd.DataFrame({'GitHub_elements':ax_new_labels.index, 'count':ax_new_labels.values})\n",
    "all_pages_df"
   ]
  },
  {
   "cell_type": "markdown",
   "metadata": {},
   "source": [
    "Calculate percent out of `32` total github repos.  \n",
    "**Note**: I include code in the denominator that adjusts to the number of repositories in dataframe. For this manuscript, we had 32 repositories."
   ]
  },
  {
   "cell_type": "code",
   "execution_count": 7,
   "metadata": {},
   "outputs": [
    {
     "data": {
      "text/plain": [
       "32"
      ]
     },
     "execution_count": 7,
     "metadata": {},
     "output_type": "execute_result"
    }
   ],
   "source": [
    "len(all_pages.index)"
   ]
  },
  {
   "cell_type": "code",
   "execution_count": 8,
   "metadata": {},
   "outputs": [
    {
     "name": "stdout",
     "output_type": "stream",
     "text": [
      "                           GitHub_elements count percent\n",
      "0                          getting_started  11.0  34.375\n",
      "1                            about_section  30.0   93.75\n",
      "2                        how_to_contribute  20.0    62.5\n",
      "3                                  history  10.0   31.25\n",
      "4                    copyright_information  18.0   56.25\n",
      "5             funding_and_acknowledgements   7.0  21.875\n",
      "6                 visual_structure_of_repo   6.0   18.75\n",
      "7                     recommended_citation  10.0   31.25\n",
      "8    archived_version_and_upcoming_version  26.0   81.25\n",
      "9                                resources   6.0   18.75\n",
      "10                    description_of_terms  29.0  90.625\n",
      "11  best_practices_guide_to_apply_standard   6.0   18.75\n"
     ]
    }
   ],
   "source": [
    "all_pages_df['percent'] = (all_pages_df['count'] / len(all_pages.index)) * 100\n",
    "print(all_pages_df)"
   ]
  },
  {
   "cell_type": "markdown",
   "metadata": {},
   "source": [
    "Sort dataframe based on percentages from highest to lowest. This will make bars ordered from highest to lowest in figure."
   ]
  },
  {
   "cell_type": "code",
   "execution_count": 9,
   "metadata": {},
   "outputs": [
    {
     "name": "stdout",
     "output_type": "stream",
     "text": [
      "                           GitHub_elements count percent\n",
      "1                            about_section  30.0   93.75\n",
      "10                    description_of_terms  29.0  90.625\n",
      "8    archived_version_and_upcoming_version  26.0   81.25\n",
      "2                        how_to_contribute  20.0    62.5\n",
      "4                    copyright_information  18.0   56.25\n",
      "0                          getting_started  11.0  34.375\n",
      "3                                  history  10.0   31.25\n",
      "7                     recommended_citation  10.0   31.25\n",
      "5             funding_and_acknowledgements   7.0  21.875\n",
      "6                 visual_structure_of_repo   6.0   18.75\n",
      "9                                resources   6.0   18.75\n",
      "11  best_practices_guide_to_apply_standard   6.0   18.75\n"
     ]
    }
   ],
   "source": [
    "result_all_pages = all_pages_df.sort_values('percent', ascending=False)\n",
    "print(result_all_pages)"
   ]
  },
  {
   "cell_type": "markdown",
   "metadata": {},
   "source": [
    "Now, make plot using seaborn package, specifying that the context of the figure will be in a `paper`"
   ]
  },
  {
   "cell_type": "code",
   "execution_count": 10,
   "metadata": {},
   "outputs": [
    {
     "data": {
      "image/png": "[encoded data removed]",
      "text/plain": [
       "<Figure size 432x288 with 1 Axes>"
      ]
     },
     "metadata": {},
     "output_type": "display_data"
    }
   ],
   "source": [
    "sns.set_style(\"white\")\n",
    "sns.set_context(\"paper\", font_scale=1.7)\n",
    "all_pages_barplot = sns.barplot(x=\"GitHub_elements\", \n",
    "                                y = \"percent\", \n",
    "                                data = all_pages_df, \n",
    "                                color=\"#1F968BFF\",\n",
    "                               order = result_all_pages['GitHub_elements'])\n",
    "all_pages_barplot.set(xlabel = \"GitHub site elements\", \n",
    "                      ylabel = \"Percent of sites\")\n",
    "all_pages_barplot.set_xticklabels(all_pages_barplot.get_xticklabels(), \n",
    "                                  rotation=90)\n",
    "all_pages_barplot.set_xticklabels(['about','terms','version','contribute','license','history','citation','getting started','funding','visual structure','resources','use case guide'])\n",
    "sns.despine(top=True)\n",
    "plt.tight_layout(h_pad=2)\n",
    "plt.ylim(0,100)\n",
    "#plt.savefig('figures/all__repositories.jpg', dpi=300)"
   ]
  }
 ],
 "metadata": {
  "kernelspec": {
   "display_name": "sysrevenv",
   "language": "python",
   "name": "sysrevenv"
  },
  "language_info": {
   "codemirror_mode": {
    "name": "ipython",
    "version": 3
   },
   "file_extension": ".py",
   "mimetype": "text/x-python",
   "name": "python",
   "nbconvert_exporter": "python",
   "pygments_lexer": "ipython3",
   "version": "3.9.1"
  }
 },
 "nbformat": 4,
 "nbformat_minor": 4
}
