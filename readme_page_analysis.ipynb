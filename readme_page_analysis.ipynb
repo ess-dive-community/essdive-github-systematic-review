{
 "cells": [
  {
   "cell_type": "markdown",
   "metadata": {},
   "source": [
    "# Barplot of README page content"
   ]
  },
  {
   "cell_type": "markdown",
   "metadata": {},
   "source": [
    "Import the libraries for README page analysis."
   ]
  },
  {
   "cell_type": "code",
   "execution_count": 1,
   "metadata": {},
   "outputs": [],
   "source": [
    "import matplotlib.pylab as plt\n",
    "import pandas as pd\n",
    "import numpy as np\n",
    "import seaborn as sns"
   ]
  },
  {
   "cell_type": "markdown",
   "metadata": {},
   "source": [
    "Import the CSV file for readme pages"
   ]
  },
  {
   "cell_type": "code",
   "execution_count": 2,
   "metadata": {},
   "outputs": [],
   "source": [
    "readme_pages = pd.read_csv('data/readme_pages.csv', header=0)"
   ]
  },
  {
   "cell_type": "markdown",
   "metadata": {},
   "source": [
    "Sum the number of elemenets across organizations"
   ]
  },
  {
   "cell_type": "code",
   "execution_count": 3,
   "metadata": {
    "scrolled": true
   },
   "outputs": [
    {
     "name": "stdout",
     "output_type": "stream",
     "text": [
      "organization_or_project_name             Darwin CoreEMLEcological Trait Data StandardMI...\n",
      "getting_started                                                                       12.0\n",
      "about_section                                                                         29.0\n",
      "how_to_contribute                                                                     16.0\n",
      "history                                                                                6.0\n",
      "copyright_information                                                                 12.0\n",
      "funding_and_acknowledgements                                                           7.0\n",
      "visual_structure_of_repo                                                               7.0\n",
      "recommended_citation                                                                  10.0\n",
      "archived_version_and_upcoming_version                                                 11.0\n",
      "resources                                                                              6.0\n",
      "dtype: object\n"
     ]
    }
   ],
   "source": [
    "readme_pages_totals = readme_pages.sum()\n",
    "print(readme_pages_totals)"
   ]
  },
  {
   "cell_type": "markdown",
   "metadata": {},
   "source": [
    "Remove the header since we will replace the header in the next step."
   ]
  },
  {
   "cell_type": "code",
   "execution_count": 4,
   "metadata": {},
   "outputs": [
    {
     "data": {
      "text/plain": [
       "getting_started          12.0\n",
       "about_section            29.0\n",
       "how_to_contribute        16.0\n",
       "history                   6.0\n",
       "copyright_information    12.0\n",
       "dtype: object"
      ]
     },
     "execution_count": 4,
     "metadata": {},
     "output_type": "execute_result"
    }
   ],
   "source": [
    "readme_new_labels = readme_pages_totals.drop(\"organization_or_project_name\")\n",
    "readme_new_labels.head()"
   ]
  },
  {
   "cell_type": "markdown",
   "metadata": {},
   "source": [
    "Convert the series to a dataframe, and add in new header for plotting."
   ]
  },
  {
   "cell_type": "code",
   "execution_count": 5,
   "metadata": {},
   "outputs": [
    {
     "data": {
      "text/html": [
       "<div>\n",
       "<style scoped>\n",
       "    .dataframe tbody tr th:only-of-type {\n",
       "        vertical-align: middle;\n",
       "    }\n",
       "\n",
       "    .dataframe tbody tr th {\n",
       "        vertical-align: top;\n",
       "    }\n",
       "\n",
       "    .dataframe thead th {\n",
       "        text-align: right;\n",
       "    }\n",
       "</style>\n",
       "<table border=\"1\" class=\"dataframe\">\n",
       "  <thead>\n",
       "    <tr style=\"text-align: right;\">\n",
       "      <th></th>\n",
       "      <th>README_elements</th>\n",
       "      <th>count</th>\n",
       "    </tr>\n",
       "  </thead>\n",
       "  <tbody>\n",
       "    <tr>\n",
       "      <th>0</th>\n",
       "      <td>getting_started</td>\n",
       "      <td>12.0</td>\n",
       "    </tr>\n",
       "    <tr>\n",
       "      <th>1</th>\n",
       "      <td>about_section</td>\n",
       "      <td>29.0</td>\n",
       "    </tr>\n",
       "    <tr>\n",
       "      <th>2</th>\n",
       "      <td>how_to_contribute</td>\n",
       "      <td>16.0</td>\n",
       "    </tr>\n",
       "    <tr>\n",
       "      <th>3</th>\n",
       "      <td>history</td>\n",
       "      <td>6.0</td>\n",
       "    </tr>\n",
       "    <tr>\n",
       "      <th>4</th>\n",
       "      <td>copyright_information</td>\n",
       "      <td>12.0</td>\n",
       "    </tr>\n",
       "    <tr>\n",
       "      <th>5</th>\n",
       "      <td>funding_and_acknowledgements</td>\n",
       "      <td>7.0</td>\n",
       "    </tr>\n",
       "    <tr>\n",
       "      <th>6</th>\n",
       "      <td>visual_structure_of_repo</td>\n",
       "      <td>7.0</td>\n",
       "    </tr>\n",
       "    <tr>\n",
       "      <th>7</th>\n",
       "      <td>recommended_citation</td>\n",
       "      <td>10.0</td>\n",
       "    </tr>\n",
       "    <tr>\n",
       "      <th>8</th>\n",
       "      <td>archived_version_and_upcoming_version</td>\n",
       "      <td>11.0</td>\n",
       "    </tr>\n",
       "    <tr>\n",
       "      <th>9</th>\n",
       "      <td>resources</td>\n",
       "      <td>6.0</td>\n",
       "    </tr>\n",
       "  </tbody>\n",
       "</table>\n",
       "</div>"
      ],
      "text/plain": [
       "                         README_elements count\n",
       "0                        getting_started  12.0\n",
       "1                          about_section  29.0\n",
       "2                      how_to_contribute  16.0\n",
       "3                                history   6.0\n",
       "4                  copyright_information  12.0\n",
       "5           funding_and_acknowledgements   7.0\n",
       "6               visual_structure_of_repo   7.0\n",
       "7                   recommended_citation  10.0\n",
       "8  archived_version_and_upcoming_version  11.0\n",
       "9                              resources   6.0"
      ]
     },
     "execution_count": 5,
     "metadata": {},
     "output_type": "execute_result"
    }
   ],
   "source": [
    "readme_pages_df = pd.DataFrame({'README_elements':readme_new_labels.index, 'count':readme_new_labels.values})\n",
    "readme_pages_df"
   ]
  },
  {
   "cell_type": "markdown",
   "metadata": {},
   "source": [
    "Calculate the percent of each element compared to overall number of organizations."
   ]
  },
  {
   "cell_type": "code",
   "execution_count": 6,
   "metadata": {},
   "outputs": [
    {
     "name": "stdout",
     "output_type": "stream",
     "text": [
      "                         README_elements count percent\n",
      "0                        getting_started  12.0    37.5\n",
      "1                          about_section  29.0  90.625\n",
      "2                      how_to_contribute  16.0    50.0\n",
      "3                                history   6.0   18.75\n",
      "4                  copyright_information  12.0    37.5\n",
      "5           funding_and_acknowledgements   7.0  21.875\n",
      "6               visual_structure_of_repo   7.0  21.875\n",
      "7                   recommended_citation  10.0   31.25\n",
      "8  archived_version_and_upcoming_version  11.0  34.375\n",
      "9                              resources   6.0   18.75\n"
     ]
    }
   ],
   "source": [
    "readme_pages_df['percent'] = (readme_pages_df['count'] / (len(readme_pages.index))) * 100\n",
    "print(readme_pages_df)"
   ]
  },
  {
   "cell_type": "markdown",
   "metadata": {},
   "source": [
    "Arrange dataframe into descending order for plotting."
   ]
  },
  {
   "cell_type": "code",
   "execution_count": 7,
   "metadata": {},
   "outputs": [
    {
     "name": "stdout",
     "output_type": "stream",
     "text": [
      "                         README_elements count percent\n",
      "1                          about_section  29.0  90.625\n",
      "2                      how_to_contribute  16.0    50.0\n",
      "0                        getting_started  12.0    37.5\n",
      "4                  copyright_information  12.0    37.5\n",
      "8  archived_version_and_upcoming_version  11.0  34.375\n",
      "7                   recommended_citation  10.0   31.25\n",
      "5           funding_and_acknowledgements   7.0  21.875\n",
      "6               visual_structure_of_repo   7.0  21.875\n",
      "3                                history   6.0   18.75\n",
      "9                              resources   6.0   18.75\n"
     ]
    }
   ],
   "source": [
    "result = readme_pages_df.sort_values('percent', ascending=False)\n",
    "print(result)"
   ]
  },
  {
   "cell_type": "markdown",
   "metadata": {},
   "source": [
    "Make plot using `seaborn` library"
   ]
  },
  {
   "cell_type": "code",
   "execution_count": 8,
   "metadata": {},
   "outputs": [
    {
     "data": {
      "text/plain": [
       "(0.0, 100.0)"
      ]
     },
     "execution_count": 8,
     "metadata": {},
     "output_type": "execute_result"
    },
    {
     "data": {
      "image/png": "[encoded data removed]",
      "text/plain": [
       "<Figure size 432x288 with 1 Axes>"
      ]
     },
     "metadata": {},
     "output_type": "display_data"
    }
   ],
   "source": [
    "sns.set_style(\"white\")\n",
    "sns.set_context(\"paper\", font_scale=1.7)\n",
    "readme_barplot = sns.barplot(x=\"README_elements\", \n",
    "                                y = \"percent\", \n",
    "                                data = readme_pages_df, \n",
    "                                color=\"#482677FF\",\n",
    "                               order = result['README_elements'])\n",
    "readme_barplot.set(xlabel = \"README page elements\", \n",
    "                      ylabel = \"Percent of READMEs\")\n",
    "readme_barplot.set_xticklabels(readme_barplot.get_xticklabels(), \n",
    "                                  rotation=90)\n",
    "readme_barplot.set_xticklabels(['about','contribute','citation','license','version','getting started','funding','visual structure','history','resources'])\n",
    "sns.despine(top=True)\n",
    "plt.tight_layout(h_pad=2)\n",
    "plt.ylim(0,100)\n",
    "#plt.savefig('figures/README_content.jpg', dpi=300)"
   ]
  }
 ],
 "metadata": {
  "kernelspec": {
   "display_name": "sysrevenv",
   "language": "python",
   "name": "sysrevenv"
  },
  "language_info": {
   "codemirror_mode": {
    "name": "ipython",
    "version": 3
   },
   "file_extension": ".py",
   "mimetype": "text/x-python",
   "name": "python",
   "nbconvert_exporter": "python",
   "pygments_lexer": "ipython3",
   "version": "3.9.1"
  }
 },
 "nbformat": 4,
 "nbformat_minor": 4
}
